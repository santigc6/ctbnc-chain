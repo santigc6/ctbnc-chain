{
 "cells": [
  {
   "cell_type": "markdown",
   "id": "4cf91f18",
   "metadata": {},
   "source": [
    "# First, let's generate a multi-label dataset for the CTBNC classifier"
   ]
  },
  {
   "cell_type": "code",
   "execution_count": 2,
   "id": "e6f8db12",
   "metadata": {},
   "outputs": [],
   "source": [
    "import os, sys\n",
    "import pandas as pd\n",
    "import glob\n",
    "import shutil\n",
    "from sklearn.metrics import accuracy_score"
   ]
  },
  {
   "cell_type": "markdown",
   "id": "40c33b12",
   "metadata": {},
   "source": [
    "# Let's use the default CTBNC\n",
    "\n",
    "https://github.com/dcodecasa/CTBNCToolkit"
   ]
  },
  {
   "cell_type": "code",
   "execution_count": 3,
   "id": "f578e5ac",
   "metadata": {},
   "outputs": [
    {
     "name": "stderr",
     "output_type": "stream",
     "text": [
      "java version \"1.8.0_241\"\n",
      "Java(TM) SE Runtime Environment (build 1.8.0_241-b07)\n",
      "Java HotSpot(TM) 64-Bit Server VM (build 25.241-b07, mixed mode)\n"
     ]
    }
   ],
   "source": [
    "!java -version"
   ]
  },
  {
   "cell_type": "code",
   "execution_count": 4,
   "id": "13f19916",
   "metadata": {},
   "outputs": [],
   "source": [
    "os.chdir('..')"
   ]
  },
  {
   "cell_type": "code",
   "execution_count": 17,
   "id": "a361ff7d",
   "metadata": {},
   "outputs": [
    {
     "name": "stdout",
     "output_type": "stream",
     "text": [
      " El volumen de la unidad C no tiene etiqueta.\n",
      " El n£mero de serie del volumen es: 9CE1-B000\n",
      "\n",
      " Directorio de C:\\Users\\berna\\Downloads\\MUIA\\TFM\\ctbnc-chain\\CTBNCToolkit\n",
      "\n",
      "06/07/2021  08:27    <DIR>          .\n",
      "06/07/2021  08:27    <DIR>          ..\n",
      "07/03/2021  20:15    <DIR>          .vscode\n",
      "04/03/2021  01:10    <DIR>          CTBNCToolkit\n",
      "06/04/2021  22:57           175.327 CTBNCToolkit.jar\n",
      "06/07/2021  08:24    <DIR>          data\n",
      "04/03/2021  01:10    <DIR>          lib\n",
      "04/03/2021  01:10             1.518 LICENSE\n",
      "04/03/2021  01:10             5.313 makefile\n",
      "04/03/2021  01:10               124 MANIFEST.MF\n",
      "06/07/2021  08:26    <DIR>          notebooks\n",
      "04/03/2021  01:10             2.126 README.md\n",
      "06/07/2021  08:27    <DIR>          results\n",
      "04/07/2021  22:58    <DIR>          results-base\n",
      "05/07/2021  08:11    <DIR>          results-second\n",
      "06/07/2021  03:34    <DIR>          results-third\n",
      "               5 archivos        184.408 bytes\n",
      "              11 dirs  399.914.110.976 bytes libres\n"
     ]
    }
   ],
   "source": [
    "!dir"
   ]
  },
  {
   "cell_type": "markdown",
   "id": "0e70e8a2",
   "metadata": {},
   "source": [
    "# CTBNC chain"
   ]
  },
  {
   "cell_type": "code",
   "execution_count": 18,
   "id": "2827c40e",
   "metadata": {},
   "outputs": [],
   "source": [
    "def read_results(res_dir):\n",
    "    cols = ['id', 'label', 'pred', 'pred_prob']\n",
    "    valid_cols = [i for i in range(0, 7, 2)] # [0, 2, 4, 6]\n",
    "\n",
    "    try:\n",
    "        results_file = glob.glob(os.path.join(res_dir, '*-results.txt'))[0]\n",
    "    except:\n",
    "        print(\"Error while trying to read\", os.path.join(res_dir, '*-results.txt'))\n",
    "\n",
    "    df_res = pd.read_csv(results_file, names=cols, skipinitialspace=True, usecols=valid_cols, sep=':|,', engine='python')\n",
    "    \n",
    "    return df_res\n",
    "\n",
    "def reset_data(orig_dir, dest_dir):\n",
    "    try:\n",
    "        if os.path.exists(dest_dir):\n",
    "            shutil.rmtree(dest_dir)\n",
    "        shutil.copytree(orig_dir, dest_dir)\n",
    "    except:\n",
    "        return False\n",
    "    return True\n",
    "\n",
    "def get_different_values(column):\n",
    "    diff_vals = []\n",
    "    try:\n",
    "        check_val = column[0]\n",
    "    except:\n",
    "        return diff_vals\n",
    "    diff_vals.append(check_val)\n",
    "    for i in range(len(column)):\n",
    "        actual_val = column[i]\n",
    "        if actual_val != check_val:\n",
    "            diff_vals.append(actual_val)\n",
    "            check_val = actual_val\n",
    "    return diff_vals"
   ]
  },
  {
   "cell_type": "code",
   "execution_count": 15,
   "id": "a5be638a",
   "metadata": {},
   "outputs": [
    {
     "data": {
      "text/plain": [
       "False"
      ]
     },
     "execution_count": 15,
     "metadata": {},
     "output_type": "execute_result"
    }
   ],
   "source": [
    "inDir = os.path.join('data', 'd1')\n",
    "tmpDir = os.path.join('data', 'd1-tmp')\n",
    "\n",
    "features = [\"X1\",\"X2\",\"X3\",\"X4\",\"X5\",\"X6\",\"X7\",\"X8\",\"X9\",\"X10\"]\n",
    "time = 't'\n",
    "labels = [\"C1\",\"C2\",\"C3\",\"C4\",\"C5\",\"C6\",\"C7\",\"C8\",\"C9\",\"C10\"]\n",
    "models = ['ACTNB2-LL,T0.00001', 'ACTNB2-LL,penalty' 'CTBNC2-LL,penalty']\n",
    "train_perc = 0.75\n",
    "\n",
    "features_cmd = ','.join(f\"{item}\" for item in features)\n",
    "features_cmd\n",
    "\n",
    "# Restore the tmp directory\n",
    "reset_data(inDir, tmpDir)"
   ]
  },
  {
   "cell_type": "code",
   "execution_count": 16,
   "id": "5405cfd7",
   "metadata": {
    "scrolled": true
   },
   "outputs": [
    {
     "ename": "FileNotFoundError",
     "evalue": "[WinError 3] El sistema no puede encontrar la ruta especificada: 'results\\\\ch-perfect-d1ACTNB2-LL,T0.00001'",
     "output_type": "error",
     "traceback": [
      "\u001b[1;31m---------------------------------------------------------------------------\u001b[0m",
      "\u001b[1;31mFileNotFoundError\u001b[0m                         Traceback (most recent call last)",
      "\u001b[1;32m<ipython-input-16-94ffb28b44db>\u001b[0m in \u001b[0;36m<module>\u001b[1;34m\u001b[0m\n\u001b[0;32m      3\u001b[0m     \u001b[0mfeatures\u001b[0m \u001b[1;33m=\u001b[0m \u001b[1;33m[\u001b[0m\u001b[1;34m\"X1\"\u001b[0m\u001b[1;33m,\u001b[0m\u001b[1;34m\"X2\"\u001b[0m\u001b[1;33m,\u001b[0m\u001b[1;34m\"X3\"\u001b[0m\u001b[1;33m,\u001b[0m\u001b[1;34m\"X4\"\u001b[0m\u001b[1;33m,\u001b[0m\u001b[1;34m\"X5\"\u001b[0m\u001b[1;33m,\u001b[0m\u001b[1;34m\"X6\"\u001b[0m\u001b[1;33m,\u001b[0m\u001b[1;34m\"X7\"\u001b[0m\u001b[1;33m,\u001b[0m\u001b[1;34m\"X8\"\u001b[0m\u001b[1;33m,\u001b[0m\u001b[1;34m\"X9\"\u001b[0m\u001b[1;33m,\u001b[0m\u001b[1;34m\"X10\"\u001b[0m\u001b[1;33m]\u001b[0m\u001b[1;33m\u001b[0m\u001b[1;33m\u001b[0m\u001b[0m\n\u001b[0;32m      4\u001b[0m     \u001b[0mfeatures_cmd\u001b[0m \u001b[1;33m=\u001b[0m \u001b[1;34m','\u001b[0m\u001b[1;33m.\u001b[0m\u001b[0mjoin\u001b[0m\u001b[1;33m(\u001b[0m\u001b[1;34mf\"{item}\"\u001b[0m \u001b[1;32mfor\u001b[0m \u001b[0mitem\u001b[0m \u001b[1;32min\u001b[0m \u001b[0mfeatures\u001b[0m\u001b[1;33m)\u001b[0m\u001b[1;33m\u001b[0m\u001b[1;33m\u001b[0m\u001b[0m\n\u001b[1;32m----> 5\u001b[1;33m     \u001b[0mos\u001b[0m\u001b[1;33m.\u001b[0m\u001b[0mmkdir\u001b[0m\u001b[1;33m(\u001b[0m\u001b[0mos\u001b[0m\u001b[1;33m.\u001b[0m\u001b[0mpath\u001b[0m\u001b[1;33m.\u001b[0m\u001b[0mjoin\u001b[0m\u001b[1;33m(\u001b[0m\u001b[1;34m'results'\u001b[0m\u001b[1;33m,\u001b[0m \u001b[1;34m'ch-perfect-d1'\u001b[0m \u001b[1;33m+\u001b[0m \u001b[0mmod\u001b[0m\u001b[1;33m)\u001b[0m\u001b[1;33m,\u001b[0m \u001b[1;36m0o777\u001b[0m\u001b[1;33m)\u001b[0m\u001b[1;33m\u001b[0m\u001b[1;33m\u001b[0m\u001b[0m\n\u001b[0m\u001b[0;32m      6\u001b[0m     \u001b[1;32mfor\u001b[0m \u001b[0mitem\u001b[0m \u001b[1;32min\u001b[0m \u001b[0mlabels\u001b[0m\u001b[1;33m:\u001b[0m\u001b[1;33m\u001b[0m\u001b[1;33m\u001b[0m\u001b[0m\n\u001b[0;32m      7\u001b[0m         \u001b[0moutDir\u001b[0m \u001b[1;33m=\u001b[0m \u001b[0mos\u001b[0m\u001b[1;33m.\u001b[0m\u001b[0mpath\u001b[0m\u001b[1;33m.\u001b[0m\u001b[0mjoin\u001b[0m\u001b[1;33m(\u001b[0m\u001b[1;34m'results'\u001b[0m\u001b[1;33m,\u001b[0m \u001b[1;34m'ch-perfect-d1'\u001b[0m \u001b[1;33m+\u001b[0m \u001b[0mmod\u001b[0m\u001b[1;33m,\u001b[0m \u001b[0mitem\u001b[0m\u001b[1;33m)\u001b[0m \u001b[1;31m# Generate the directory to store the results\u001b[0m\u001b[1;33m\u001b[0m\u001b[1;33m\u001b[0m\u001b[0m\n",
      "\u001b[1;31mFileNotFoundError\u001b[0m: [WinError 3] El sistema no puede encontrar la ruta especificada: 'results\\\\ch-perfect-d1ACTNB2-LL,T0.00001'"
     ]
    }
   ],
   "source": [
    "i=0\n",
    "for mod in models:\n",
    "    reset_data(inDir, tmpDir)\n",
    "    features = [\"X1\",\"X2\",\"X3\",\"X4\",\"X5\",\"X6\",\"X7\",\"X8\",\"X9\",\"X10\"]\n",
    "    features_cmd = ','.join(f\"{item}\" for item in features)\n",
    "    dir_out = os.path.join('results', 'ch-perfect-d1' + mod.split(\",\")[0] + str(i))\n",
    "    i+=1\n",
    "    os.mkdir(dir_out, 0o777)\n",
    "    for item in labels:\n",
    "        outDir = os.path.join(dir_out, item) # Generate the directory to store the results\n",
    "        os.mkdir(outDir, 0o777)\n",
    "\n",
    "        # Run the application to generate, train and test the classifier\n",
    "        !java -jar CTBNCToolkit.jar --CTBNC={mod} --validation=HO,{train_perc} --validColumns={features_cmd} --trjSeparator={item} --timeName={time} --className={item} --rPath={outDir} {tmpDir}\n",
    "        #!java -jar CTBNCToolkit.jar --CTBNC={models} --validation=HO,{train_perc} --validColumns={features_cmd} --timeName={time} --className={item} --rPath={outDir} {tmpDir}\n",
    "\n",
    "        # Get the predictions for the test subset\n",
    "        df_res = read_results(outDir)\n",
    "        acc = accuracy_score(df_res['label'], df_res['pred'])\n",
    "        print('Accuracy score for', item, '->', acc )\n",
    "        sys.stdout.flush()\n",
    "        \n",
    "        # Finally append the label to the features for the next model to use it as input and reset the classes\n",
    "        features.append(item)\n",
    "        features_cmd = ','.join(f\"{item}\" for item in features)"
   ]
  },
  {
   "cell_type": "code",
   "execution_count": 9,
   "id": "6690ea36",
   "metadata": {},
   "outputs": [
    {
     "data": {
      "text/plain": [
       "True"
      ]
     },
     "execution_count": 9,
     "metadata": {},
     "output_type": "execute_result"
    }
   ],
   "source": [
    "# Restore the tmp directory\n",
    "reset_data(inDir, tmpDir)"
   ]
  },
  {
   "cell_type": "markdown",
   "id": "464e8cf1",
   "metadata": {},
   "source": [
    "# Binary relevance"
   ]
  },
  {
   "cell_type": "code",
   "execution_count": 10,
   "id": "a5c443df",
   "metadata": {},
   "outputs": [
    {
     "data": {
      "text/plain": [
       "True"
      ]
     },
     "execution_count": 10,
     "metadata": {},
     "output_type": "execute_result"
    }
   ],
   "source": [
    "inDir = os.path.join('data', 'd1')\n",
    "tmpDir = os.path.join('data', 'd1-tmp')\n",
    "\n",
    "features = [\"X1\",\"X2\",\"X3\",\"X4\",\"X5\",\"X6\",\"X7\",\"X8\",\"X9\",\"X10\"]\n",
    "time = 't'\n",
    "labels = [\"C1\",\"C2\",\"C3\",\"C4\",\"C5\",\"C6\",\"C7\",\"C8\",\"C9\",\"C10\"]\n",
    "models = ['ACTNB2-LL,T0.00001', 'ACTNB2-LL,penalty' 'CTBNC2-LL,penalty']\n",
    "train_perc = 0.75\n",
    "\n",
    "features_cmd = ','.join(f\"{item}\" for item in features)\n",
    "features_cmd\n",
    "\n",
    "# Restore the tmp directory\n",
    "reset_data(inDir, tmpDir)"
   ]
  },
  {
   "cell_type": "code",
   "execution_count": 11,
   "id": "fb35e063",
   "metadata": {},
   "outputs": [
    {
     "name": "stdout",
     "output_type": "stream",
     "text": [
      "M0_ACTNB2-LL results printing\n",
      "Accuracy score for C1 -> 0.896\n",
      "M0_ACTNB2-LL results printing\n",
      "Accuracy score for C2 -> 0.886\n",
      "M0_ACTNB2-LL results printing\n",
      "Accuracy score for C3 -> 0.75\n",
      "M0_ACTNB2-LL results printing\n",
      "Accuracy score for C4 -> 0.732\n",
      "M0_ACTNB2-LL results printing\n",
      "Accuracy score for C5 -> 0.602\n",
      "M0_ACTNB2-LL results printing\n",
      "Accuracy score for C6 -> 0.54\n",
      "M0_ACTNB2-LL results printing\n",
      "Accuracy score for C7 -> 0.496\n",
      "M0_ACTNB2-LL results printing\n",
      "Accuracy score for C8 -> 0.526\n",
      "M0_ACTNB2-LL results printing\n",
      "Accuracy score for C9 -> 0.526\n",
      "M0_ACTNB2-LL results printing\n",
      "Accuracy score for C10 -> 0.548\n",
      "M0_ACTNB4-LL results printing\n",
      "Accuracy score for C1 -> 0.896\n",
      "M0_ACTNB4-LL results printing\n",
      "Accuracy score for C2 -> 0.886\n",
      "M0_ACTNB4-LL results printing\n",
      "Accuracy score for C3 -> 0.75\n",
      "M0_ACTNB4-LL results printing\n",
      "Accuracy score for C4 -> 0.732\n",
      "M0_ACTNB4-LL results printing\n",
      "Accuracy score for C5 -> 0.602\n",
      "M0_ACTNB4-LL results printing\n",
      "Accuracy score for C6 -> 0.54\n",
      "M0_ACTNB4-LL results printing\n",
      "Accuracy score for C7 -> 0.496\n",
      "M0_ACTNB4-LL results printing\n",
      "Accuracy score for C8 -> 0.526\n",
      "M0_ACTNB4-LL results printing\n",
      "Accuracy score for C9 -> 0.526\n",
      "M0_ACTNB4-LL results printing\n",
      "Accuracy score for C10 -> 0.548\n"
     ]
    }
   ],
   "source": [
    "i=0\n",
    "for mod in models:\n",
    "    reset_data(inDir, tmpDir)\n",
    "    features = [\"X1\",\"X2\",\"X3\",\"X4\",\"X5\",\"X6\",\"X7\",\"X8\",\"X9\",\"X10\"]\n",
    "    features_cmd = ','.join(f\"{item}\" for item in features)\n",
    "    dir_out = os.path.join('results', 'br-perfect-d1' + mod.split(\",\")[0] + str(i))\n",
    "    i+=1\n",
    "    os.mkdir(dir_out, 0o777)\n",
    "    for item in labels:\n",
    "        outDir = os.path.join(dir_out, item) # Generate the directory to store the results\n",
    "        os.mkdir(outDir, 0o777)\n",
    "\n",
    "        # Run the application to generate, train and test the classifier\n",
    "        #!java -jar CTBNCToolkit.jar --CTBNC={models} --v --validation=HO,{train_perc} --validColumns={features_cmd} --timeName={time} --className={item} --rPath={outDir} {tmpDir}\n",
    "        !java -jar CTBNCToolkit.jar --CTBNC={mod} --validation=HO,{train_perc} --validColumns={features_cmd} --trjSeparator={item} --timeName={time} --className={item} --rPath={outDir} {tmpDir}\n",
    "\n",
    "        # Get the predictions for the test subset\n",
    "        df_res = read_results(outDir)\n",
    "        acc = accuracy_score(df_res['label'], df_res['pred'])\n",
    "        print('Accuracy score for', item, '->', acc )"
   ]
  },
  {
   "cell_type": "code",
   "execution_count": 12,
   "id": "fbd7f326",
   "metadata": {},
   "outputs": [
    {
     "data": {
      "text/plain": [
       "True"
      ]
     },
     "execution_count": 12,
     "metadata": {},
     "output_type": "execute_result"
    }
   ],
   "source": [
    "# Restore the tmp directory\n",
    "reset_data(inDir, tmpDir)"
   ]
  },
  {
   "cell_type": "code",
   "execution_count": null,
   "id": "f44e2647",
   "metadata": {},
   "outputs": [],
   "source": []
  }
 ],
 "metadata": {
  "kernelspec": {
   "display_name": "Python 3",
   "language": "python",
   "name": "python3"
  },
  "language_info": {
   "codemirror_mode": {
    "name": "ipython",
    "version": 3
   },
   "file_extension": ".py",
   "mimetype": "text/x-python",
   "name": "python",
   "nbconvert_exporter": "python",
   "pygments_lexer": "ipython3",
   "version": "3.7.9"
  }
 },
 "nbformat": 4,
 "nbformat_minor": 5
}
