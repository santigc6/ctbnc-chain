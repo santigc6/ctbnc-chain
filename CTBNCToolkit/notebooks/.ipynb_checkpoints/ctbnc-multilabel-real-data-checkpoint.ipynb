{
 "cells": [
  {
   "cell_type": "markdown",
   "id": "4cf91f18",
   "metadata": {},
   "source": [
    "# First, let's generate a multi-label dataset for the CTBNC classifier"
   ]
  },
  {
   "cell_type": "code",
   "execution_count": 12,
   "id": "e6f8db12",
   "metadata": {},
   "outputs": [],
   "source": [
    "import os, sys\n",
    "import pandas as pd\n",
    "import glob\n",
    "import shutil\n",
    "from sklearn.metrics import accuracy_score"
   ]
  },
  {
   "cell_type": "markdown",
   "id": "40c33b12",
   "metadata": {},
   "source": [
    "# Let's use the default CTBNC\n",
    "\n",
    "https://github.com/dcodecasa/CTBNCToolkit"
   ]
  },
  {
   "cell_type": "code",
   "execution_count": 2,
   "id": "f578e5ac",
   "metadata": {},
   "outputs": [
    {
     "name": "stderr",
     "output_type": "stream",
     "text": [
      "java version \"1.8.0_241\"\n",
      "Java(TM) SE Runtime Environment (build 1.8.0_241-b07)\n",
      "Java HotSpot(TM) 64-Bit Server VM (build 25.241-b07, mixed mode)\n"
     ]
    }
   ],
   "source": [
    "!java -version"
   ]
  },
  {
   "cell_type": "code",
   "execution_count": 3,
   "id": "13f19916",
   "metadata": {},
   "outputs": [],
   "source": [
    "os.chdir('..')"
   ]
  },
  {
   "cell_type": "code",
   "execution_count": 10,
   "id": "a361ff7d",
   "metadata": {},
   "outputs": [
    {
     "name": "stdout",
     "output_type": "stream",
     "text": [
      " El volumen de la unidad C no tiene etiqueta.\n",
      " El n£mero de serie del volumen es: 9CE1-B000\n",
      "\n",
      " Directorio de C:\\Users\\berna\\Downloads\\MUIA\\TFM\\ctbnc-chain\\CTBNCToolkit\n",
      "\n",
      "14/06/2021  16:06    <DIR>          .\n",
      "14/06/2021  16:06    <DIR>          ..\n",
      "07/03/2021  20:15    <DIR>          .vscode\n",
      "04/03/2021  01:10    <DIR>          CTBNCToolkit\n",
      "06/04/2021  22:57           175.327 CTBNCToolkit.jar\n",
      "14/06/2021  16:33    <DIR>          data\n",
      "04/03/2021  01:10    <DIR>          lib\n",
      "04/03/2021  01:10             1.518 LICENSE\n",
      "04/03/2021  01:10             5.313 makefile\n",
      "04/03/2021  01:10               124 MANIFEST.MF\n",
      "14/06/2021  16:34    <DIR>          notebooks\n",
      "04/03/2021  01:10             2.126 README.md\n",
      "14/06/2021  16:11    <DIR>          results\n",
      "               5 archivos        184.408 bytes\n",
      "               8 dirs  408.697.098.240 bytes libres\n"
     ]
    }
   ],
   "source": [
    "!dir"
   ]
  },
  {
   "cell_type": "markdown",
   "id": "1408d5cb",
   "metadata": {},
   "source": [
    "# Define the parameters"
   ]
  },
  {
   "cell_type": "code",
   "execution_count": 5,
   "id": "0630353d",
   "metadata": {},
   "outputs": [],
   "source": [
    "inDir = os.path.join('data', 'energy')\n",
    "tmpDir = os.path.join('data', 'energy-tmp')\n",
    "outDir = os.path.join('results', 'real-data')"
   ]
  },
  {
   "cell_type": "code",
   "execution_count": 6,
   "id": "2077d6db",
   "metadata": {},
   "outputs": [],
   "source": [
    "features = ['IA','IB','IC','VA','VB','VC','SA','SB','SC','PA','PB','PC','QA','QB','QC']\n",
    "time = 'timestamp'\n",
    "labels = ['M1','M2','M3','M4','M5','M6']"
   ]
  },
  {
   "cell_type": "markdown",
   "id": "cb3e8324",
   "metadata": {},
   "source": [
    "# Let's make predictions for each one of the labels independently"
   ]
  },
  {
   "cell_type": "code",
   "execution_count": 77,
   "id": "d7808a9b",
   "metadata": {},
   "outputs": [],
   "source": [
    "def read_results(res_dir):\n",
    "    cols = ['id', 'label', 'pred', 'pred_prob']\n",
    "    valid_cols = [i for i in range(0, 7, 2)] # [0, 2, 4, 6]\n",
    "    \n",
    "    try:\n",
    "        results_file = glob.glob(os.path.join(res_dir, '*-results.txt'))[0]\n",
    "    except:\n",
    "        print(\"Error while trying to read\", os.path.join(res_dir, '*-results.txt'))\n",
    "        \n",
    "    df_res = pd.read_csv(results_file, names=cols, skipinitialspace=True, usecols=valid_cols, sep=':|,', engine='python')\n",
    "    \n",
    "    return df_res"
   ]
  },
  {
   "cell_type": "code",
   "execution_count": 8,
   "id": "21dad590",
   "metadata": {},
   "outputs": [
    {
     "data": {
      "text/plain": [
       "True"
      ]
     },
     "execution_count": 8,
     "metadata": {},
     "output_type": "execute_result"
    }
   ],
   "source": [
    "def reset_data(orig_dir, dest_dir):\n",
    "    try:\n",
    "        if os.path.exists(dest_dir):\n",
    "            shutil.rmtree(dest_dir)\n",
    "        shutil.copytree(orig_dir, dest_dir)\n",
    "    except:\n",
    "        return False\n",
    "    return True"
   ]
  },
  {
   "cell_type": "markdown",
   "id": "7728f42e",
   "metadata": {},
   "source": [
    "# Rename all the files, filename can't have ','"
   ]
  },
  {
   "cell_type": "code",
   "execution_count": 17,
   "id": "fc595346",
   "metadata": {},
   "outputs": [
    {
     "data": {
      "text/plain": [
       "['1096893478']"
      ]
     },
     "execution_count": 17,
     "metadata": {},
     "output_type": "execute_result"
    }
   ],
   "source": [
    "import re\n",
    "\n",
    "re.findall(r\"\\d+\", \"1096893478_['inactive', 'inactive', 'inactive', 'inactive', 'inactive', 'inactive'].csv\")"
   ]
  },
  {
   "cell_type": "code",
   "execution_count": 19,
   "id": "5374e202",
   "metadata": {},
   "outputs": [
    {
     "data": {
      "text/plain": [
       "True"
      ]
     },
     "execution_count": 19,
     "metadata": {},
     "output_type": "execute_result"
    }
   ],
   "source": [
    "import os\n",
    "import re\n",
    "\n",
    "i = 0 # unique ID; just in case\n",
    "for file in os.listdir(inDir):\n",
    "    file_path = os.path.join(inDir, file)\n",
    "    file_name = re.findall(r\"\\d+\", file)[0]\n",
    "    file_name += (\"-\" + str(i) + '.csv') \n",
    "    i += 1\n",
    "    file_renamed_path = os.path.join(inDir, file_name)\n",
    "    os.rename(file_path, file_renamed_path)\n",
    "    \n",
    "reset_data(inDir, tmpDir)"
   ]
  },
  {
   "cell_type": "markdown",
   "id": "0e70e8a2",
   "metadata": {},
   "source": [
    "# CTBNC chain"
   ]
  },
  {
   "cell_type": "code",
   "execution_count": 24,
   "id": "2827c40e",
   "metadata": {},
   "outputs": [],
   "source": [
    "def read_results(res_dir):\n",
    "    cols = ['id', 'label', 'pred', 'pred_prob']\n",
    "    valid_cols = [i for i in range(0, 7, 2)] # [0, 2, 4, 6]\n",
    "\n",
    "    try:\n",
    "        results_file = glob.glob(os.path.join(res_dir, '*-results.txt'))[0]\n",
    "    except:\n",
    "        print(\"Error while trying to read\", os.path.join(res_dir, '*-results.txt'))\n",
    "\n",
    "    df_res = pd.read_csv(results_file, names=cols, skipinitialspace=True, usecols=valid_cols, sep=':|,', engine='python')\n",
    "    \n",
    "    return df_res\n",
    "\n",
    "def reset_data(orig_dir, dest_dir):\n",
    "    try:\n",
    "        if os.path.exists(dest_dir):\n",
    "            shutil.rmtree(dest_dir)\n",
    "        shutil.copytree(orig_dir, dest_dir)\n",
    "    except:\n",
    "        return False\n",
    "    return True\n",
    "\n",
    "def get_different_values(column):\n",
    "    diff_vals = []\n",
    "    try:\n",
    "        check_val = column[0]\n",
    "    except:\n",
    "        return diff_vals\n",
    "    diff_vals.append(check_val)\n",
    "    for i in range(len(column)):\n",
    "        actual_val = column[i]\n",
    "        if actual_val != check_val:\n",
    "            diff_vals.append(actual_val)\n",
    "            check_val = actual_val\n",
    "    return diff_vals"
   ]
  },
  {
   "cell_type": "code",
   "execution_count": 25,
   "id": "a5be638a",
   "metadata": {},
   "outputs": [
    {
     "data": {
      "text/plain": [
       "True"
      ]
     },
     "execution_count": 25,
     "metadata": {},
     "output_type": "execute_result"
    }
   ],
   "source": [
    "inDir = os.path.join('data', 'energy')\n",
    "tmpDir = os.path.join('data', 'energy-tmp')\n",
    "\n",
    "features = ['IA','IB','IC','VA','VB','VC','SA','SB','SC','PA','PB','PC','QA','QB','QC']\n",
    "time = 'timestamp'\n",
    "labels = ['M1','M2','M3','M4','M5','M6']\n",
    "models = ['CTNB', 'CTBNC2-LL', 'CTBNC4-LL', 'CTBNC8-LL']\n",
    "train_perc = 0.75\n",
    "\n",
    "features_cmd = ','.join(f\"{item}\" for item in features)\n",
    "\n",
    "# Restore the tmp directory\n",
    "reset_data(inDir, tmpDir)"
   ]
  },
  {
   "cell_type": "code",
   "execution_count": 26,
   "id": "5405cfd7",
   "metadata": {
    "scrolled": true
   },
   "outputs": [
    {
     "name": "stdout",
     "output_type": "stream",
     "text": [
      "M0_CTNB results printing\n",
      "Accuracy score for M1 -> 0.5760456273764258\n",
      "Ss dynamic count 0\n",
      "M0_CTNB results printing\n",
      "Accuracy score for M2 -> 0.5760456273764258\n",
      "Ss dynamic count 0\n",
      "M0_CTNB results printing\n",
      "Accuracy score for M3 -> 0.6210131332082551\n",
      "Ss dynamic count 0\n",
      "M0_CTNB results printing\n",
      "Accuracy score for M4 -> 0.7142857142857143\n",
      "Ss dynamic count 0\n",
      "M0_CTNB results printing\n",
      "Accuracy score for M5 -> 0.7494969818913481\n",
      "Ss dynamic count 0\n",
      "M0_CTNB results printing\n",
      "Accuracy score for M6 -> 0.7494969818913481\n",
      "Ss dynamic count 0\n",
      "M0_CTBNC2-LL results printing\n",
      "Accuracy score for M1 -> 0.5760456273764258\n",
      "Ss dynamic count 0\n",
      "M0_CTBNC2-LL results printing\n",
      "Accuracy score for M2 -> 0.5760456273764258\n",
      "Ss dynamic count 0\n",
      "M0_CTBNC2-LL results printing\n",
      "Accuracy score for M3 -> 0.6210131332082551\n",
      "Ss dynamic count 0\n",
      "M0_CTBNC2-LL results printing\n",
      "Accuracy score for M4 -> 0.7142857142857143\n",
      "Ss dynamic count 0\n",
      "M0_CTBNC2-LL results printing\n",
      "Accuracy score for M5 -> 0.7494969818913481\n",
      "Ss dynamic count 0\n",
      "M0_CTBNC2-LL results printing\n",
      "Accuracy score for M6 -> 0.7494969818913481\n",
      "Ss dynamic count 0\n",
      "M0_CTBNC4-LL results printing\n",
      "Accuracy score for M1 -> 0.5760456273764258\n",
      "Ss dynamic count 0\n",
      "M0_CTBNC4-LL results printing\n",
      "Accuracy score for M2 -> 0.5760456273764258\n",
      "Ss dynamic count 0\n",
      "M0_CTBNC4-LL results printing\n",
      "Accuracy score for M3 -> 0.6210131332082551\n",
      "Ss dynamic count 0\n",
      "M0_CTBNC4-LL results printing\n",
      "Accuracy score for M4 -> 0.7142857142857143\n",
      "Ss dynamic count 0\n",
      "M0_CTBNC4-LL results printing\n",
      "Accuracy score for M5 -> 0.7494969818913481\n",
      "Ss dynamic count 0\n",
      "M0_CTBNC4-LL results printing\n",
      "Accuracy score for M6 -> 0.7494969818913481\n",
      "Ss dynamic count 0\n",
      "M0_CTBNC8-LL results printing\n",
      "Accuracy score for M1 -> 0.5760456273764258\n",
      "Ss dynamic count 0\n",
      "M0_CTBNC8-LL results printing\n",
      "Accuracy score for M2 -> 0.5760456273764258\n",
      "Ss dynamic count 0\n",
      "M0_CTBNC8-LL results printing\n",
      "Accuracy score for M3 -> 0.6210131332082551\n",
      "Ss dynamic count 0\n",
      "M0_CTBNC8-LL results printing\n",
      "Accuracy score for M4 -> 0.7142857142857143\n",
      "Ss dynamic count 0\n",
      "M0_CTBNC8-LL results printing\n",
      "Accuracy score for M5 -> 0.7494969818913481\n",
      "Ss dynamic count 0\n",
      "M0_CTBNC8-LL results printing\n",
      "Accuracy score for M6 -> 0.7494969818913481\n",
      "Ss dynamic count 0\n"
     ]
    }
   ],
   "source": [
    "for mod in models:\n",
    "    reset_data(inDir, tmpDir)\n",
    "    features = [\"X1\",\"X2\",\"X3\",\"X4\",\"X5\",\"X6\",\"X7\",\"X8\",\"X9\",\"X10\"]\n",
    "    features_cmd = ','.join(f\"{item}\" for item in features)\n",
    "    os.mkdir(os.path.join('results', 'ch-real' + mod), 0o777)\n",
    "    for item in labels:\n",
    "        outDir = os.path.join('results', 'ch-real' + mod, item) # Generate the directory to store the results\n",
    "        os.mkdir(outDir, 0o777)\n",
    "        \n",
    "        # Run the application to generate, train and test the classifier\n",
    "        !java -jar CTBNCToolkit.jar --CTBNC={mod} --validation=HO,{train_perc} --validColumns={features_cmd} --trjSeparator={item} --timeName={time} --className={item} --rPath={outDir} {tmpDir}\n",
    "        #!java -jar CTBNCToolkit.jar --CTBNC={models} --validation=HO,{train_perc} --validColumns={features_cmd} --timeName={time} --className={item} --rPath={outDir} {tmpDir}\n",
    "\n",
    "        # Get the predictions for the test subset\n",
    "        df_res = read_results(outDir)\n",
    "        acc = accuracy_score(df_res['label'], df_res['pred'])\n",
    "        print('Accuracy score for', item, '->', acc )\n",
    "        sys.stdout.flush()\n",
    "\n",
    "        classes = []\n",
    "        files = df_res[\"id\"]\n",
    "        preds = df_res[\"pred\"]\n",
    "        ss_dynamic_count = 0\n",
    "        for i in range(len(files)):\n",
    "            file = files[i]\n",
    "            classes.append(preds[i].strip())\n",
    "            try:\n",
    "                next_file = files[i + 1]\n",
    "            except:\n",
    "                next_file = files[i]\n",
    "                pass\n",
    "            #print(file, next_file)\n",
    "            #sys.stdout.flush()\n",
    "            data = file.split(\"_\") # filename_ind\n",
    "            ind = data[-1]\n",
    "            filename = data[0]\n",
    "            next_ind = next_file.split(\"_\")[-1] # filename_nextind\n",
    "            #print(ind, next_ind)\n",
    "            #sys.stdout.flush()\n",
    "            if int(next_ind) <= int(ind):\n",
    "                #print(\"Updating\", filename, \"with\", classes)\n",
    "                #sys.stdout.flush()\n",
    "                # update the file\n",
    "                tmp_file = os.path.join(tmpDir, filename)\n",
    "                df_tmp = pd.read_csv(tmp_file)\n",
    "                different_values = get_different_values(df_tmp[item])\n",
    "                if len(different_values) != len(classes):\n",
    "                    print(\"Error\", tmp_file, different_values, classes)\n",
    "                    sys.stdout.flush()\n",
    "                    #print(\"Error con el número de cambios de trjSeparator\")\n",
    "                    #sys.stdout.flush()\n",
    "                    ss_dynamic_count += 1\n",
    "\n",
    "                new_col = []\n",
    "                j = 0\n",
    "                old_col = df_tmp[item]\n",
    "                max_val = len(classes)\n",
    "                for i_tmp in range(len(old_col)):\n",
    "                    actual_val = old_col[i_tmp]\n",
    "                    try:\n",
    "                        next_val = old_col[i_tmp + 1]\n",
    "                    except:\n",
    "                        next_val = old_col[i_tmp]\n",
    "                        pass\n",
    "                    new_col.append(classes[j])\n",
    "                    if actual_val != next_val:\n",
    "                        j += 1\n",
    "                        if j >= max_val:\n",
    "                            j -= 1\n",
    "\n",
    "                df_tmp[item] = new_col\n",
    "                df_tmp.to_csv(tmp_file, header=True, index=False)\n",
    "                classes = []\n",
    "\n",
    "        # Finally append the label to the features for the next model to use it as input and reset the classes\n",
    "        features.append(item)\n",
    "        features_cmd = ','.join(f\"{item}\" for item in features)\n",
    "\n",
    "        print(\"Ss dynamic count\", ss_dynamic_count)\n",
    "        sys.stdout.flush()"
   ]
  },
  {
   "cell_type": "code",
   "execution_count": 27,
   "id": "6690ea36",
   "metadata": {},
   "outputs": [
    {
     "data": {
      "text/plain": [
       "True"
      ]
     },
     "execution_count": 27,
     "metadata": {},
     "output_type": "execute_result"
    }
   ],
   "source": [
    "# Restore the tmp directory\n",
    "reset_data(inDir, tmpDir)"
   ]
  },
  {
   "cell_type": "markdown",
   "id": "464e8cf1",
   "metadata": {},
   "source": [
    "# Binary relevance"
   ]
  },
  {
   "cell_type": "code",
   "execution_count": 28,
   "id": "a5c443df",
   "metadata": {},
   "outputs": [
    {
     "data": {
      "text/plain": [
       "True"
      ]
     },
     "execution_count": 28,
     "metadata": {},
     "output_type": "execute_result"
    }
   ],
   "source": [
    "inDir = os.path.join('data', 'energy')\n",
    "tmpDir = os.path.join('data', 'energy-tmp')\n",
    "outDir = os.path.join('results', 'real-data')\n",
    "\n",
    "features = ['IA','IB','IC','VA','VB','VC','SA','SB','SC','PA','PB','PC','QA','QB','QC']\n",
    "time = 'timestamp'\n",
    "labels = ['M1','M2','M3','M4','M5','M6']\n",
    "models = ['CTNB', 'CTBNC2-LL', 'CTBNC4-LL', 'CTBNC8-LL']\n",
    "train_perc = 0.75\n",
    "\n",
    "features_cmd = ','.join(f\"{item}\" for item in features)\n",
    "features_cmd\n",
    "\n",
    "# Restore the tmp directory\n",
    "reset_data(inDir, tmpDir)"
   ]
  },
  {
   "cell_type": "code",
   "execution_count": 29,
   "id": "fb35e063",
   "metadata": {},
   "outputs": [
    {
     "name": "stdout",
     "output_type": "stream",
     "text": [
      "M0_CTNB results printing\n",
      "Accuracy score for M1 -> 0.5760456273764258\n",
      "M0_CTNB results printing\n",
      "Accuracy score for M2 -> 0.5760456273764258\n",
      "M0_CTNB results printing\n",
      "Accuracy score for M3 -> 0.6210131332082551\n",
      "M0_CTNB results printing\n",
      "Accuracy score for M4 -> 0.7142857142857143\n",
      "M0_CTNB results printing\n",
      "Accuracy score for M5 -> 0.7494969818913481\n",
      "M0_CTNB results printing\n",
      "Accuracy score for M6 -> 0.7494969818913481\n",
      "M0_CTBNC2-LL results printing\n",
      "Accuracy score for M1 -> 0.5760456273764258\n",
      "M0_CTBNC2-LL results printing\n",
      "Accuracy score for M2 -> 0.5760456273764258\n",
      "M0_CTBNC2-LL results printing\n",
      "Accuracy score for M3 -> 0.6210131332082551\n",
      "M0_CTBNC2-LL results printing\n",
      "Accuracy score for M4 -> 0.7142857142857143\n",
      "M0_CTBNC2-LL results printing\n",
      "Accuracy score for M5 -> 0.7494969818913481\n",
      "M0_CTBNC2-LL results printing\n",
      "Accuracy score for M6 -> 0.7494969818913481\n",
      "M0_CTBNC4-LL results printing\n",
      "Accuracy score for M1 -> 0.5760456273764258\n",
      "M0_CTBNC4-LL results printing\n",
      "Accuracy score for M2 -> 0.5760456273764258\n",
      "M0_CTBNC4-LL results printing\n",
      "Accuracy score for M3 -> 0.6210131332082551\n",
      "M0_CTBNC4-LL results printing\n",
      "Accuracy score for M4 -> 0.7142857142857143\n",
      "M0_CTBNC4-LL results printing\n",
      "Accuracy score for M5 -> 0.7494969818913481\n",
      "M0_CTBNC4-LL results printing\n",
      "Accuracy score for M6 -> 0.7494969818913481\n",
      "M0_CTBNC8-LL results printing\n",
      "Accuracy score for M1 -> 0.5760456273764258\n",
      "M0_CTBNC8-LL results printing\n",
      "Accuracy score for M2 -> 0.5760456273764258\n",
      "M0_CTBNC8-LL results printing\n",
      "Accuracy score for M3 -> 0.6210131332082551\n",
      "M0_CTBNC8-LL results printing\n",
      "Accuracy score for M4 -> 0.7142857142857143\n",
      "M0_CTBNC8-LL results printing\n",
      "Accuracy score for M5 -> 0.7494969818913481\n",
      "M0_CTBNC8-LL results printing\n",
      "Accuracy score for M6 -> 0.7494969818913481\n"
     ]
    }
   ],
   "source": [
    "for mod in models:\n",
    "    reset_data(inDir, tmpDir)\n",
    "    features = [\"X1\",\"X2\",\"X3\",\"X4\",\"X5\",\"X6\",\"X7\",\"X8\",\"X9\",\"X10\"]\n",
    "    features_cmd = ','.join(f\"{item}\" for item in features)\n",
    "    os.mkdir(os.path.join('results', 'br-real' + mod), 0o777)\n",
    "    for item in labels:\n",
    "        outDir = os.path.join('results', 'br-real' + mod, item) # Generate the directory to store the results\n",
    "        os.mkdir(outDir, 0o777)\n",
    "\n",
    "        # Run the application to generate, train and test the classifier\n",
    "        #!java -jar CTBNCToolkit.jar --CTBNC={models} --v --validation=HO,{train_perc} --validColumns={features_cmd} --timeName={time} --className={item} --rPath={outDir} {tmpDir}\n",
    "        !java -jar CTBNCToolkit.jar --CTBNC={mod} --validation=HO,{train_perc} --validColumns={features_cmd} --trjSeparator={item} --timeName={time} --className={item} --rPath={outDir} {tmpDir}\n",
    "\n",
    "        # Get the predictions for the test subset\n",
    "        df_res = read_results(outDir)\n",
    "        acc = accuracy_score(df_res['label'], df_res['pred'])\n",
    "        print('Accuracy score for', item, '->', acc )"
   ]
  },
  {
   "cell_type": "code",
   "execution_count": null,
   "id": "fbd7f326",
   "metadata": {},
   "outputs": [],
   "source": [
    "# Restore the tmp directory\n",
    "reset_data(inDir, tmpDir)"
   ]
  },
  {
   "cell_type": "code",
   "execution_count": null,
   "id": "f44e2647",
   "metadata": {},
   "outputs": [],
   "source": []
  }
 ],
 "metadata": {
  "kernelspec": {
   "display_name": "Python 3",
   "language": "python",
   "name": "python3"
  },
  "language_info": {
   "codemirror_mode": {
    "name": "ipython",
    "version": 3
   },
   "file_extension": ".py",
   "mimetype": "text/x-python",
   "name": "python",
   "nbconvert_exporter": "python",
   "pygments_lexer": "ipython3",
   "version": "3.7.9"
  }
 },
 "nbformat": 4,
 "nbformat_minor": 5
}
